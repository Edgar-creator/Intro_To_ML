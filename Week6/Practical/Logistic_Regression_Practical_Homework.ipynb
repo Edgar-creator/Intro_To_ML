{
 "cells": [
  {
   "cell_type": "code",
   "execution_count": 23,
   "metadata": {},
   "outputs": [],
   "source": [
    "import pandas as pd\n",
    "import numpy as np\n",
    "import matplotlib.pyplot as plt\n",
    "from sklearn.metrics import jaccard_score"
   ]
  },
  {
   "cell_type": "markdown",
   "metadata": {},
   "source": [
    "## Load the dataset \n",
    "load diabetes_data"
   ]
  },
  {
   "cell_type": "code",
   "execution_count": 24,
   "metadata": {},
   "outputs": [
    {
     "data": {
      "text/html": [
       "<div>\n",
       "<style scoped>\n",
       "    .dataframe tbody tr th:only-of-type {\n",
       "        vertical-align: middle;\n",
       "    }\n",
       "\n",
       "    .dataframe tbody tr th {\n",
       "        vertical-align: top;\n",
       "    }\n",
       "\n",
       "    .dataframe thead th {\n",
       "        text-align: right;\n",
       "    }\n",
       "</style>\n",
       "<table border=\"1\" class=\"dataframe\">\n",
       "  <thead>\n",
       "    <tr style=\"text-align: right;\">\n",
       "      <th></th>\n",
       "      <th>Glucose</th>\n",
       "      <th>SkinThickness</th>\n",
       "      <th>Outcome</th>\n",
       "    </tr>\n",
       "  </thead>\n",
       "  <tbody>\n",
       "    <tr>\n",
       "      <td>0</td>\n",
       "      <td>0.847771</td>\n",
       "      <td>0.906679</td>\n",
       "      <td>1</td>\n",
       "    </tr>\n",
       "    <tr>\n",
       "      <td>1</td>\n",
       "      <td>-1.122665</td>\n",
       "      <td>0.530556</td>\n",
       "      <td>0</td>\n",
       "    </tr>\n",
       "    <tr>\n",
       "      <td>2</td>\n",
       "      <td>1.942458</td>\n",
       "      <td>-1.287373</td>\n",
       "      <td>1</td>\n",
       "    </tr>\n",
       "    <tr>\n",
       "      <td>3</td>\n",
       "      <td>-0.997558</td>\n",
       "      <td>0.154433</td>\n",
       "      <td>0</td>\n",
       "    </tr>\n",
       "    <tr>\n",
       "      <td>4</td>\n",
       "      <td>0.503727</td>\n",
       "      <td>0.906679</td>\n",
       "      <td>1</td>\n",
       "    </tr>\n",
       "  </tbody>\n",
       "</table>\n",
       "</div>"
      ],
      "text/plain": [
       "    Glucose  SkinThickness  Outcome\n",
       "0  0.847771       0.906679        1\n",
       "1 -1.122665       0.530556        0\n",
       "2  1.942458      -1.287373        1\n",
       "3 -0.997558       0.154433        0\n",
       "4  0.503727       0.906679        1"
      ]
     },
     "execution_count": 24,
     "metadata": {},
     "output_type": "execute_result"
    }
   ],
   "source": [
    "df = pd.read_csv(\"diabetes_data.csv\")\n",
    "\n",
    "for i in df.columns[:-1]:\n",
    "    df[i]=(df[i]-df[i].mean())/df[i].std()\n",
    "\n",
    "\n",
    "df1 = df[['Glucose',\"SkinThickness\",'Outcome']]\n",
    "\n",
    "\n",
    "df1.head()"
   ]
  },
  {
   "cell_type": "markdown",
   "metadata": {},
   "source": [
    "## Divide the dataset into train and test datasets"
   ]
  },
  {
   "cell_type": "code",
   "execution_count": 25,
   "metadata": {},
   "outputs": [],
   "source": [
    "from sklearn.model_selection import train_test_split as tts\n",
    "xtrain,xtest,ytrain,ytest= tts(df1[df1.columns.difference([\"Outcome\"])],df1['Outcome'],test_size=0.25,random_state=40)\n"
   ]
  },
  {
   "cell_type": "markdown",
   "metadata": {},
   "source": [
    "## Implement the following functions to create your own logistic regression algorithm from scratch.\n",
    "#### Feel free to use more additinal functions in your implementation."
   ]
  },
  {
   "cell_type": "code",
   "execution_count": 26,
   "metadata": {},
   "outputs": [],
   "source": [
    "class MyLogisticRegression():\n",
    "    def __init__(self,epsilon=1e-6,step_size=1e-4,max_steps=1000,lambd=0,fit_intercept=True):\n",
    "        self.epsilon = epsilon\n",
    "        self.step_size = step_size\n",
    "        self.max_steps = max_steps\n",
    "        self.lambd = lambd\n",
    "        self.fit_intercept = fit_intercept\n",
    "        \n",
    "        \n",
    "        \n",
    "    def sigmoid(self,X):\n",
    "        return 1/(1+np.exp(-X))\n",
    "    \n",
    "    def new(self,X):\n",
    "        X = np.array(X)\n",
    "        if self.fit_intercept is True:\n",
    "            X1 = np.insert(X, 0, 1, axis=1)\n",
    "            return X1\n",
    "        return X\n",
    "    \n",
    "    def logistic_func(self,X,beta):\n",
    "        return 1/(1+np.exp(np.dot(np.array(-beta),X.T)))\n",
    " \n",
    "    \n",
    "    def cost_func(self,X, Y,beta):\n",
    "        cost=0\n",
    "        regular=0\n",
    "        cost=np.dot(-Y,np.log(self.logistic_func(X,beta)))-np.dot((1-Y),np.log(1-self.logistic_func(X,beta)))+ ((self.lambd/(2*X.shape[1])))*(beta**2).sum()\n",
    "        return cost/X.shape[0]\n",
    "     \n",
    "    \n",
    "    def gradient(self,X, Y,beta):\n",
    "\n",
    "        return np.array((self.logistic_func(X,beta) -Y).T.dot(X))\n",
    "    \n",
    "    \n",
    "    def gradient_descent(self,X, Y):\n",
    "        X1 = self.new(X)\n",
    "        beta= np.zeros(X1.shape[1])\n",
    "\n",
    "        for i in range(self.max_steps):\n",
    "            old_cost = self.cost_func(X1, Y,beta)\n",
    "            beta -= self.step_size*self.gradient(X1, Y, beta)\n",
    "            if abs(self.cost_func(X1,Y,beta) - old_cost) <= self.epsilon/5:\n",
    "                print(\"Gradient Descent converged at %s step\" % i)\n",
    "                break\n",
    "        self.beta = beta\n",
    "                 \n",
    "        if self.fit_intercept is True:\n",
    "            self.intercept_=self.beta[0]\n",
    "            self.coef_ = self.beta[1:]\n",
    "        else:\n",
    "            self.intercept_ = []\n",
    "            self.coef_ = self.beta\n",
    "        self.by_importance_coef_ = sorted(abs(self.coef_))\n",
    "    \n",
    "    def fit(self,X,Y):\n",
    "        self.gradient_descent(X, Y)\n",
    "        \n",
    "        \n",
    "    def predict(self,X):\n",
    "        X = self.new(X)\n",
    "        return np.where(self.logistic_func(X,self.beta)>=0.5,1,0)\n",
    "     \n",
    "    "
   ]
  },
  {
   "cell_type": "code",
   "execution_count": 27,
   "metadata": {},
   "outputs": [
    {
     "name": "stdout",
     "output_type": "stream",
     "text": [
      "Gradient Descent converged at 541 step\n",
      "Wall time: 1.4 s\n"
     ]
    }
   ],
   "source": [
    "%%time\n",
    "V = MyLogisticRegression(lambd=2)\n",
    "V.fit(xtrain,ytrain)\n"
   ]
  },
  {
   "cell_type": "code",
   "execution_count": 28,
   "metadata": {},
   "outputs": [
    {
     "data": {
      "text/plain": [
       "array([-0.79086699,  1.13618675,  0.16279593])"
      ]
     },
     "execution_count": 28,
     "metadata": {},
     "output_type": "execute_result"
    }
   ],
   "source": [
    "pred1 = V.predict(xtest)\n",
    "\n",
    "jaccard_score(pred,ytest)\n",
    "b =V.beta\n",
    "b"
   ]
  },
  {
   "cell_type": "markdown",
   "metadata": {},
   "source": [
    "## Run logistic regression using the features of your choice and using \"Outcome\" as a target variable"
   ]
  },
  {
   "cell_type": "markdown",
   "metadata": {},
   "source": [
    "## Use the logistic regression available in Sklearn on the same data."
   ]
  },
  {
   "cell_type": "code",
   "execution_count": 29,
   "metadata": {},
   "outputs": [
    {
     "name": "stdout",
     "output_type": "stream",
     "text": [
      "[-0.79686429] [[1.14855142 0.16173517]]\n",
      "[[108  11]\n",
      " [ 38  35]]\n",
      "Accuracy is 0.74479\n",
      "Precision is 0.76087\n",
      "Recall is 0.47945\n"
     ]
    }
   ],
   "source": [
    "from sklearn.model_selection import train_test_split as tts\n",
    "xtrain,xtest,ytrain,ytest= tts(df1[df1.columns.difference([\"Outcome\"])],df1['Outcome'],test_size=0.25,random_state=40)\n",
    "\n",
    "\n",
    "from sklearn.linear_model import LogisticRegression\n",
    "logreg = LogisticRegression(solver='liblinear',fit_intercept=True,C=2)\n",
    "logreg.fit(xtrain,ytrain)\n",
    "pred = logreg.predict(xtest)\n",
    "print(logreg.intercept_,logreg.coef_)\n",
    "from sklearn.metrics import confusion_matrix as cm\n",
    "from sklearn import metrics\n",
    "cm = cm(ytest,pred)\n",
    "print(cm)\n",
    "print(\"Accuracy is %s\" % round((cm[1][1]+cm[0][0])/(cm[1][1]+cm[0][0]+cm[1][0]+cm[0][1]),5))\n",
    "print(\"Precision is %s\" % round(cm[1][1]/(cm[1][1]+cm[0][1]),5))\n",
    "print(\"Recall is %s\" % round(cm[1][1]/(cm[1][1]+cm[1][0]),5))\n",
    "#print(\"Accuracy:\",metrics.accuracy_score(ytest, pred))\n",
    "#print(\"Precision:\",metrics.precision_score(ytest, pred))\n",
    "#print(\"Recall:\",metrics.recall_score(ytest, pred))"
   ]
  },
  {
   "cell_type": "markdown",
   "metadata": {},
   "source": [
    "## Extra: try to plot the results of your algorithm i.e. a scatter plot of points classified into 2 classes in different colors."
   ]
  },
  {
   "cell_type": "code",
   "execution_count": 30,
   "metadata": {},
   "outputs": [
    {
     "data": {
      "image/png": "[encoded data removed]",
      "text/plain": [
       "<Figure size 720x576 with 1 Axes>"
      ]
     },
     "metadata": {
      "needs_background": "light"
     },
     "output_type": "display_data"
    }
   ],
   "source": [
    "linex = np.array([xtest['Glucose'].min(),xtest['Glucose'].max()])\n",
    "liney =(b[0]+b[1]*linex)/b[2]\n",
    "\n",
    "fig = plt.figure(figsize=(10,8))\n",
    "plt.scatter(xtest['Glucose'],xtest['SkinThickness'],c=pred1)\n",
    "plt.plot(linex,-liney)\n",
    "plt.xlabel('Glucose',fontsize=15)\n",
    "plt.ylabel('SkinThickness',fontsize=15)\n",
    "plt.show()\n"
   ]
  },
  {
   "cell_type": "code",
   "execution_count": null,
   "metadata": {},
   "outputs": [],
   "source": []
  }
 ],
 "metadata": {
  "kernelspec": {
   "display_name": "Python 3",
   "language": "python",
   "name": "python3"
  },
  "language_info": {
   "codemirror_mode": {
    "name": "ipython",
    "version": 3
   },
   "file_extension": ".py",
   "mimetype": "text/x-python",
   "name": "python",
   "nbconvert_exporter": "python",
   "pygments_lexer": "ipython3",
   "version": "3.7.4"
  }
 },
 "nbformat": 4,
 "nbformat_minor": 4
}
