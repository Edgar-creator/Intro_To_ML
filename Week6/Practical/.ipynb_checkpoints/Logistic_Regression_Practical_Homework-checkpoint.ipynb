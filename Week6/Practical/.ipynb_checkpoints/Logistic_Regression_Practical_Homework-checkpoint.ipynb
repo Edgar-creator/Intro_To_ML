{
 "cells": [
  {
   "cell_type": "code",
   "execution_count": 1,
   "metadata": {},
   "outputs": [],
   "source": [
    "import pandas as pd\n",
    "import numpy as np\n",
    "import matplotlib.pyplot as plt\n",
    "from sklearn.metrics import jaccard_score"
   ]
  },
  {
   "cell_type": "markdown",
   "metadata": {},
   "source": [
    "## Load the dataset \n",
    "load diabetes_data"
   ]
  },
  {
   "cell_type": "code",
   "execution_count": 2,
   "metadata": {},
   "outputs": [
    {
     "data": {
      "text/html": [
       "<div>\n",
       "<style scoped>\n",
       "    .dataframe tbody tr th:only-of-type {\n",
       "        vertical-align: middle;\n",
       "    }\n",
       "\n",
       "    .dataframe tbody tr th {\n",
       "        vertical-align: top;\n",
       "    }\n",
       "\n",
       "    .dataframe thead th {\n",
       "        text-align: right;\n",
       "    }\n",
       "</style>\n",
       "<table border=\"1\" class=\"dataframe\">\n",
       "  <thead>\n",
       "    <tr style=\"text-align: right;\">\n",
       "      <th></th>\n",
       "      <th>Glucose</th>\n",
       "      <th>BloodPressure</th>\n",
       "      <th>SkinThickness</th>\n",
       "      <th>Outcome</th>\n",
       "    </tr>\n",
       "  </thead>\n",
       "  <tbody>\n",
       "    <tr>\n",
       "      <td>0</td>\n",
       "      <td>0.847771</td>\n",
       "      <td>0.149543</td>\n",
       "      <td>0.906679</td>\n",
       "      <td>1</td>\n",
       "    </tr>\n",
       "    <tr>\n",
       "      <td>1</td>\n",
       "      <td>-1.122665</td>\n",
       "      <td>-0.160441</td>\n",
       "      <td>0.530556</td>\n",
       "      <td>0</td>\n",
       "    </tr>\n",
       "    <tr>\n",
       "      <td>2</td>\n",
       "      <td>1.942458</td>\n",
       "      <td>-0.263769</td>\n",
       "      <td>-1.287373</td>\n",
       "      <td>1</td>\n",
       "    </tr>\n",
       "    <tr>\n",
       "      <td>3</td>\n",
       "      <td>-0.997558</td>\n",
       "      <td>-0.160441</td>\n",
       "      <td>0.154433</td>\n",
       "      <td>0</td>\n",
       "    </tr>\n",
       "    <tr>\n",
       "      <td>4</td>\n",
       "      <td>0.503727</td>\n",
       "      <td>-1.503707</td>\n",
       "      <td>0.906679</td>\n",
       "      <td>1</td>\n",
       "    </tr>\n",
       "  </tbody>\n",
       "</table>\n",
       "</div>"
      ],
      "text/plain": [
       "    Glucose  BloodPressure  SkinThickness  Outcome\n",
       "0  0.847771       0.149543       0.906679        1\n",
       "1 -1.122665      -0.160441       0.530556        0\n",
       "2  1.942458      -0.263769      -1.287373        1\n",
       "3 -0.997558      -0.160441       0.154433        0\n",
       "4  0.503727      -1.503707       0.906679        1"
      ]
     },
     "execution_count": 2,
     "metadata": {},
     "output_type": "execute_result"
    }
   ],
   "source": [
    "df = pd.read_csv(\"diabetes_data.csv\")\n",
    "\n",
    "for i in df.columns[:-1]:\n",
    "    df[i]=(df[i]-df[i].mean())/df[i].std()\n",
    "\n",
    "\n",
    "df1 = df[['Glucose','BloodPressure',\"SkinThickness\",'Outcome']]\n",
    "\n",
    "\n",
    "df1.head()"
   ]
  },
  {
   "cell_type": "markdown",
   "metadata": {},
   "source": [
    "## Divide the dataset into train and test datasets"
   ]
  },
  {
   "cell_type": "code",
   "execution_count": 3,
   "metadata": {},
   "outputs": [],
   "source": [
    "from sklearn.model_selection import train_test_split as tts\n",
    "xtrain,xtest,ytrain,ytest= tts(df1[df1.columns.difference([\"Outcome\"])],df1['Outcome'],test_size=0.25,random_state=40)\n"
   ]
  },
  {
   "cell_type": "markdown",
   "metadata": {},
   "source": [
    "## Implement the following functions to create your own logistic regression algorithm from scratch.\n",
    "#### Feel free to use more additinal functions in your implementation."
   ]
  },
  {
   "cell_type": "code",
   "execution_count": 23,
   "metadata": {},
   "outputs": [],
   "source": [
    "class MyLogisticRegression():\n",
    "    def __init__(self,epsilon=1e-6,step_size=1e-4,max_steps=1000,lambd=0,fit_intercept=True):\n",
    "        self.epsilon = epsilon\n",
    "        self.step_size = step_size\n",
    "        self.max_steps = max_steps\n",
    "        self.lambd = lambd\n",
    "        self.fit_intercept = fit_intercept\n",
    "        \n",
    "        \n",
    "        \n",
    "    def sigmoid(self,X):\n",
    "        return 1/(1+np.exp(-X))\n",
    "    \n",
    "    def new(self,X):\n",
    "        X = np.array(X)\n",
    "        if self.fit_intercept is True:\n",
    "            X1 = np.insert(X, 0, 1, axis=1)\n",
    "            return X1\n",
    "        return X\n",
    "    \n",
    "    def logistic_func(self,X,beta):\n",
    "        return 1/(1+np.exp(np.dot(np.array(-beta),X.T)))\n",
    " \n",
    "    \n",
    "    def cost_func(self,X, Y,beta):\n",
    "        cost=0\n",
    "        regular=0\n",
    "        cost=np.dot(-Y,np.log(self.logistic_func(X,beta)))-np.dot((1-Y),np.log(1-self.logistic_func(X,beta)))+ ((self.lambd/(2*X.shape[1])))*(beta**2).sum()\n",
    "        return cost/X.shape[0]\n",
    "     \n",
    "    \n",
    "    def gradient(self,X, Y,beta):\n",
    "\n",
    "        return np.array((self.logistic_func(X,beta) -Y).T.dot(X))\n",
    "    \n",
    "    \n",
    "    def gradient_descent(self,X, Y):\n",
    "        X1 = self.new(X)\n",
    "        beta= np.zeros(X1.shape[1])\n",
    "\n",
    "        for i in range(self.max_steps):\n",
    "            old_cost = self.cost_func(X1, Y,beta)\n",
    "            beta -= self.step_size*self.gradient(X1, Y, beta)\n",
    "            if abs(self.cost_func(X1,Y,beta) - old_cost) <= self.epsilon/5:\n",
    "                print(\"Gradient Descent converged at %s step\" % i)\n",
    "                break\n",
    "        self.beta = beta\n",
    "                 \n",
    "        if self.fit_intercept is True:\n",
    "            self.intercept_=self.beta[0]\n",
    "            self.coef_ = self.beta[1:]\n",
    "        else:\n",
    "            self.intercept_ = []\n",
    "            self.coef_ = self.beta\n",
    "        self.by_importance_coef_ = sorted(abs(self.coef_))\n",
    "    \n",
    "    def fit(self,X,Y):\n",
    "        self.gradient_descent(X, Y)\n",
    "        \n",
    "        \n",
    "    def predict(self,X):\n",
    "        X = self.new(X)\n",
    "        return np.where(self.logistic_func(X,self.beta)>0.5,1,0)\n",
    "     \n",
    "    "
   ]
  },
  {
   "cell_type": "code",
   "execution_count": 24,
   "metadata": {},
   "outputs": [
    {
     "name": "stdout",
     "output_type": "stream",
     "text": [
      "Gradient Descent converged at 588 step\n",
      "Wall time: 1.06 s\n"
     ]
    }
   ],
   "source": [
    "%%time\n",
    "V = MyLogisticRegression(lambd=2)\n",
    "V.fit(xtrain,ytrain)\n"
   ]
  },
  {
   "cell_type": "code",
   "execution_count": 25,
   "metadata": {},
   "outputs": [
    {
     "data": {
      "text/plain": [
       "array([-0.79468659, -0.06908235,  1.15243618,  0.1760231 ])"
      ]
     },
     "execution_count": 25,
     "metadata": {},
     "output_type": "execute_result"
    }
   ],
   "source": [
    "pred = V.predict(xtest)\n",
    "\n",
    "jaccard_score(pred,ytest)\n",
    "V.beta"
   ]
  },
  {
   "cell_type": "code",
   "execution_count": null,
   "metadata": {},
   "outputs": [],
   "source": [
    "#[-0.79858072] [[-0.07478691  1.16299518  0.17802596]]"
   ]
  },
  {
   "cell_type": "markdown",
   "metadata": {},
   "source": [
    "## Run logistic regression using the features of your choice and using \"Outcome\" as a target variable"
   ]
  },
  {
   "cell_type": "markdown",
   "metadata": {},
   "source": [
    "## Use the logistic regression available in Sklearn on the same data."
   ]
  },
  {
   "cell_type": "code",
   "execution_count": 21,
   "metadata": {},
   "outputs": [
    {
     "name": "stdout",
     "output_type": "stream",
     "text": [
      "[-0.79858072] [[-0.07478691  1.16299518  0.17802596]]\n",
      "[[108  11]\n",
      " [ 36  37]]\n",
      "Accuracy is 0.75521\n",
      "Precision is 0.77083\n",
      "Recall is 0.50685\n"
     ]
    }
   ],
   "source": [
    "from sklearn.model_selection import train_test_split as tts\n",
    "xtrain,xtest,ytrain,ytest= tts(df1[df1.columns.difference([\"Outcome\"])],df1['Outcome'],test_size=0.25,random_state=40)\n",
    "\n",
    "\n",
    "from sklearn.linear_model import LogisticRegression\n",
    "logreg = LogisticRegression(solver='liblinear',fit_intercept=True,C=2)\n",
    "logreg.fit(xtrain,ytrain)\n",
    "pred = logreg.predict(xtest)\n",
    "print(logreg.intercept_,logreg.coef_)\n",
    "from sklearn.metrics import confusion_matrix as cm\n",
    "from sklearn import metrics\n",
    "cm = cm(ytest,pred)\n",
    "print(cm)\n",
    "print(\"Accuracy is %s\" % round((cm[1][1]+cm[0][0])/(cm[1][1]+cm[0][0]+cm[1][0]+cm[0][1]),5))\n",
    "print(\"Precision is %s\" % round(cm[1][1]/(cm[1][1]+cm[0][1]),5))\n",
    "print(\"Recall is %s\" % round(cm[1][1]/(cm[1][1]+cm[1][0]),5))\n",
    "#print(\"Accuracy:\",metrics.accuracy_score(ytest, pred))\n",
    "#print(\"Precision:\",metrics.precision_score(ytest, pred))\n",
    "#print(\"Recall:\",metrics.recall_score(ytest, pred))"
   ]
  },
  {
   "cell_type": "markdown",
   "metadata": {},
   "source": [
    "## Extra: try to plot the results of your algorithm i.e. a scatter plot of points classified into 2 classes in different colors."
   ]
  },
  {
   "cell_type": "code",
   "execution_count": 129,
   "metadata": {},
   "outputs": [
    {
     "data": {
      "image/png": "[encoded data removed]",
      "text/plain": [
       "<Figure size 864x864 with 2 Axes>"
      ]
     },
     "metadata": {
      "needs_background": "light"
     },
     "output_type": "display_data"
    }
   ],
   "source": [
    "fig , axis = plt.subplots(2,1,figsize=(12,12))\n",
    "axis[0].scatter(np.arange(len(pred[pred==0])),pred[pred==0])\n",
    "axis[0].scatter(np.arange(len(pred[pred==1])),pred[pred==1],color=\"r\")\n",
    "\n",
    "\n",
    "axis[1].scatter(np.arange(len(ytest[ytest==0])),ytest[ytest==0])\n",
    "axis[1].scatter(np.arange(len(ytest[ytest==1])),ytest[ytest==1],color=\"r\")\n",
    "plt.show()"
   ]
  },
  {
   "cell_type": "code",
   "execution_count": null,
   "metadata": {},
   "outputs": [],
   "source": []
  }
 ],
 "metadata": {
  "kernelspec": {
   "display_name": "Python 3",
   "language": "python",
   "name": "python3"
  },
  "language_info": {
   "codemirror_mode": {
    "name": "ipython",
    "version": 3
   },
   "file_extension": ".py",
   "mimetype": "text/x-python",
   "name": "python",
   "nbconvert_exporter": "python",
   "pygments_lexer": "ipython3",
   "version": "3.7.4"
  }
 },
 "nbformat": 4,
 "nbformat_minor": 4
}
