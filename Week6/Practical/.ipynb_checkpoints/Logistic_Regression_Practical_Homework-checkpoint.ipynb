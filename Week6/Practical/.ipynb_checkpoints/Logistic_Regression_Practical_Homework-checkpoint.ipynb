{
 "cells": [
  {
   "cell_type": "code",
   "execution_count": 196,
   "metadata": {},
   "outputs": [],
   "source": [
    "import pandas as pd\n",
    "import numpy as np\n",
    "import matplotlib.pyplot as plt"
   ]
  },
  {
   "cell_type": "markdown",
   "metadata": {},
   "source": [
    "## Load the dataset \n",
    "load diabetes_data"
   ]
  },
  {
   "cell_type": "code",
   "execution_count": 197,
   "metadata": {},
   "outputs": [
    {
     "name": "stdout",
     "output_type": "stream",
     "text": [
      "   Pregnancies   Glucose  BloodPressure  SkinThickness   Insulin       BMI  \\\n",
      "0     0.639530  0.847771       0.149543       0.906679 -0.692439  0.203880   \n",
      "1    -0.844335 -1.122665      -0.160441       0.530556 -0.692439 -0.683976   \n",
      "2     1.233077  1.942458      -0.263769      -1.287373 -0.692439 -1.102537   \n",
      "3    -0.844335 -0.997558      -0.160441       0.154433  0.123221 -0.493721   \n",
      "4    -1.141108  0.503727      -1.503707       0.906679  0.765337  1.408828   \n",
      "\n",
      "   DiabetesPedigreeFunction       Age  Outcome  \n",
      "0                  0.468187  1.425067        1  \n",
      "1                 -0.364823 -0.190548        0  \n",
      "2                  0.604004 -0.105515        1  \n",
      "3                 -0.920163 -1.040871        0  \n",
      "4                  5.481337 -0.020483        1  \n"
     ]
    },
    {
     "data": {
      "text/html": [
       "<div>\n",
       "<style scoped>\n",
       "    .dataframe tbody tr th:only-of-type {\n",
       "        vertical-align: middle;\n",
       "    }\n",
       "\n",
       "    .dataframe tbody tr th {\n",
       "        vertical-align: top;\n",
       "    }\n",
       "\n",
       "    .dataframe thead th {\n",
       "        text-align: right;\n",
       "    }\n",
       "</style>\n",
       "<table border=\"1\" class=\"dataframe\">\n",
       "  <thead>\n",
       "    <tr style=\"text-align: right;\">\n",
       "      <th></th>\n",
       "      <th>Glucose</th>\n",
       "      <th>BloodPressure</th>\n",
       "      <th>SkinThickness</th>\n",
       "      <th>Outcome</th>\n",
       "    </tr>\n",
       "  </thead>\n",
       "  <tbody>\n",
       "    <tr>\n",
       "      <td>0</td>\n",
       "      <td>0.847771</td>\n",
       "      <td>0.149543</td>\n",
       "      <td>0.906679</td>\n",
       "      <td>1</td>\n",
       "    </tr>\n",
       "    <tr>\n",
       "      <td>1</td>\n",
       "      <td>-1.122665</td>\n",
       "      <td>-0.160441</td>\n",
       "      <td>0.530556</td>\n",
       "      <td>0</td>\n",
       "    </tr>\n",
       "    <tr>\n",
       "      <td>2</td>\n",
       "      <td>1.942458</td>\n",
       "      <td>-0.263769</td>\n",
       "      <td>-1.287373</td>\n",
       "      <td>1</td>\n",
       "    </tr>\n",
       "    <tr>\n",
       "      <td>3</td>\n",
       "      <td>-0.997558</td>\n",
       "      <td>-0.160441</td>\n",
       "      <td>0.154433</td>\n",
       "      <td>0</td>\n",
       "    </tr>\n",
       "    <tr>\n",
       "      <td>4</td>\n",
       "      <td>0.503727</td>\n",
       "      <td>-1.503707</td>\n",
       "      <td>0.906679</td>\n",
       "      <td>1</td>\n",
       "    </tr>\n",
       "  </tbody>\n",
       "</table>\n",
       "</div>"
      ],
      "text/plain": [
       "    Glucose  BloodPressure  SkinThickness  Outcome\n",
       "0  0.847771       0.149543       0.906679        1\n",
       "1 -1.122665      -0.160441       0.530556        0\n",
       "2  1.942458      -0.263769      -1.287373        1\n",
       "3 -0.997558      -0.160441       0.154433        0\n",
       "4  0.503727      -1.503707       0.906679        1"
      ]
     },
     "execution_count": 197,
     "metadata": {},
     "output_type": "execute_result"
    }
   ],
   "source": [
    "df = pd.read_csv(\"diabetes_data.csv\")\n",
    "\n",
    "for i in df.columns[:-1]:\n",
    "    df[i]=(df[i]-df[i].mean())/df[i].std()\n",
    "\n",
    "\n",
    "print(df.head())\n",
    "df1 = df[['Glucose','BloodPressure',\"SkinThickness\",'Outcome']]\n",
    "\n",
    "\n",
    "df1.head()"
   ]
  },
  {
   "cell_type": "markdown",
   "metadata": {},
   "source": [
    "## Divide the dataset into train and test datasets"
   ]
  },
  {
   "cell_type": "code",
   "execution_count": 198,
   "metadata": {},
   "outputs": [],
   "source": [
    "from sklearn.model_selection import train_test_split as tts\n",
    "xtrain,xtest,ytrain,ytest= tts(df1[df1.columns.difference([\"Outcome\"])],df1['Outcome'],test_size=0.25,random_state=40)\n"
   ]
  },
  {
   "cell_type": "markdown",
   "metadata": {},
   "source": [
    "## Implement the following functions to create your own logistic regression algorithm from scratch.\n",
    "#### Feel free to use more additinal functions in your implementation."
   ]
  },
  {
   "cell_type": "code",
   "execution_count": 199,
   "metadata": {},
   "outputs": [
    {
     "name": "stdout",
     "output_type": "stream",
     "text": [
      "BloodPressure    0.459976\n",
      "Glucose          0.245517\n",
      "SkinThickness    0.629613\n",
      "Name: 1, dtype: float64\n"
     ]
    }
   ],
   "source": [
    "def sigmoid(X):\n",
    "    return 1/(1+np.exp(-X))\n",
    "    \"\"\"\n",
    "    :param X: data matrix (2 dimensional np.array)\n",
    "    \n",
    "    \"\"\"\n",
    "print(sigmoid(xtrain.loc[1]))\n"
   ]
  },
  {
   "cell_type": "code",
   "execution_count": 200,
   "metadata": {
    "scrolled": false
   },
   "outputs": [
    {
     "data": {
      "text/html": [
       "<div>\n",
       "<style scoped>\n",
       "    .dataframe tbody tr th:only-of-type {\n",
       "        vertical-align: middle;\n",
       "    }\n",
       "\n",
       "    .dataframe tbody tr th {\n",
       "        vertical-align: top;\n",
       "    }\n",
       "\n",
       "    .dataframe thead th {\n",
       "        text-align: right;\n",
       "    }\n",
       "</style>\n",
       "<table border=\"1\" class=\"dataframe\">\n",
       "  <thead>\n",
       "    <tr style=\"text-align: right;\">\n",
       "      <th></th>\n",
       "      <th>for_intercept</th>\n",
       "      <th>BloodPressure</th>\n",
       "      <th>Glucose</th>\n",
       "      <th>SkinThickness</th>\n",
       "    </tr>\n",
       "  </thead>\n",
       "  <tbody>\n",
       "    <tr>\n",
       "      <td>563</td>\n",
       "      <td>1</td>\n",
       "      <td>-0.470426</td>\n",
       "      <td>-0.684790</td>\n",
       "      <td>-0.096316</td>\n",
       "    </tr>\n",
       "    <tr>\n",
       "      <td>739</td>\n",
       "      <td>1</td>\n",
       "      <td>0.252871</td>\n",
       "      <td>-0.590960</td>\n",
       "      <td>-1.287373</td>\n",
       "    </tr>\n",
       "    <tr>\n",
       "      <td>554</td>\n",
       "      <td>1</td>\n",
       "      <td>-0.263769</td>\n",
       "      <td>-1.153942</td>\n",
       "      <td>0.154433</td>\n",
       "    </tr>\n",
       "    <tr>\n",
       "      <td>720</td>\n",
       "      <td>1</td>\n",
       "      <td>0.872840</td>\n",
       "      <td>-1.185218</td>\n",
       "      <td>-0.096316</td>\n",
       "    </tr>\n",
       "    <tr>\n",
       "      <td>652</td>\n",
       "      <td>1</td>\n",
       "      <td>0.252871</td>\n",
       "      <td>0.065852</td>\n",
       "      <td>1.220115</td>\n",
       "    </tr>\n",
       "    <tr>\n",
       "      <td>...</td>\n",
       "      <td>...</td>\n",
       "      <td>...</td>\n",
       "      <td>...</td>\n",
       "      <td>...</td>\n",
       "    </tr>\n",
       "    <tr>\n",
       "      <td>440</td>\n",
       "      <td>1</td>\n",
       "      <td>1.802794</td>\n",
       "      <td>2.130119</td>\n",
       "      <td>0.279807</td>\n",
       "    </tr>\n",
       "    <tr>\n",
       "      <td>165</td>\n",
       "      <td>1</td>\n",
       "      <td>0.252871</td>\n",
       "      <td>-0.528406</td>\n",
       "      <td>-0.159003</td>\n",
       "    </tr>\n",
       "    <tr>\n",
       "      <td>7</td>\n",
       "      <td>1</td>\n",
       "      <td>-3.570271</td>\n",
       "      <td>-0.184362</td>\n",
       "      <td>-1.287373</td>\n",
       "    </tr>\n",
       "    <tr>\n",
       "      <td>219</td>\n",
       "      <td>1</td>\n",
       "      <td>-0.160441</td>\n",
       "      <td>-0.278192</td>\n",
       "      <td>-1.287373</td>\n",
       "    </tr>\n",
       "    <tr>\n",
       "      <td>326</td>\n",
       "      <td>1</td>\n",
       "      <td>-0.263769</td>\n",
       "      <td>0.034575</td>\n",
       "      <td>0.718617</td>\n",
       "    </tr>\n",
       "  </tbody>\n",
       "</table>\n",
       "<p>576 rows × 4 columns</p>\n",
       "</div>"
      ],
      "text/plain": [
       "     for_intercept  BloodPressure   Glucose  SkinThickness\n",
       "563              1      -0.470426 -0.684790      -0.096316\n",
       "739              1       0.252871 -0.590960      -1.287373\n",
       "554              1      -0.263769 -1.153942       0.154433\n",
       "720              1       0.872840 -1.185218      -0.096316\n",
       "652              1       0.252871  0.065852       1.220115\n",
       "..             ...            ...       ...            ...\n",
       "440              1       1.802794  2.130119       0.279807\n",
       "165              1       0.252871 -0.528406      -0.159003\n",
       "7                1      -3.570271 -0.184362      -1.287373\n",
       "219              1      -0.160441 -0.278192      -1.287373\n",
       "326              1      -0.263769  0.034575       0.718617\n",
       "\n",
       "[576 rows x 4 columns]"
      ]
     },
     "execution_count": 200,
     "metadata": {},
     "output_type": "execute_result"
    }
   ],
   "source": [
    "xtrain[\"for_intercept\"]=1\n",
    "xtrain=xtrain[[\"for_intercept\"]+list(xtrain.columns[:-1])]\n",
    "xtrain\n",
    "def logistic_func(beta,X):\n",
    "    return 1/(1+np.exp(np.dot(np.array(beta),-X.T)))\n",
    "    \n",
    "    \"\"\"\n",
    "    :param X: data matrix (2 dimensional np.array)\n",
    "    :param beta: value of beta (1 dimensional np.array)\n",
    "    \n",
    "    \"\"\"\n",
    "xtrain"
   ]
  },
  {
   "cell_type": "code",
   "execution_count": 201,
   "metadata": {},
   "outputs": [
    {
     "data": {
      "text/plain": [
       "array([109.16684273,  79.16110797,  -1.28812109, 154.9770431 ])"
      ]
     },
     "execution_count": 201,
     "metadata": {},
     "output_type": "execute_result"
    }
   ],
   "source": [
    "def gradient(beta, X, Y):\n",
    "    return np.dot((logistic_func(beta,X) -Y).T,X)\n",
    "    \n",
    "    \"\"\"\n",
    "    :param X: data matrix (2 dimensional np.array)\n",
    "    :param Y: response variables (1 dimensional np.array)\n",
    "    :param beta: value of beta (1 dimensional np.array)\n",
    "    :return: np.array i.e. gradient according to the data\n",
    "    \n",
    "    \"\"\"\n",
    "gradient([1,2,3,4], xtrain, ytrain)\n"
   ]
  },
  {
   "cell_type": "code",
   "execution_count": 202,
   "metadata": {},
   "outputs": [
    {
     "data": {
      "text/plain": [
       "1.74550810403422"
      ]
     },
     "execution_count": 202,
     "metadata": {},
     "output_type": "execute_result"
    }
   ],
   "source": [
    "def cost_func(X, Y, beta):\n",
    "    cost=0\n",
    "    for i in range(X.shape[0]):\n",
    "        cost+=-Y.iloc[i]*np.log(logistic_func(X.iloc[i],beta))-(1-Y.iloc[i])*np.log(1-logistic_func(X.iloc[i],beta))\n",
    "    return cost/X.shape[0]\n",
    "\n",
    "\n",
    "    \"\"\"\n",
    "    :param X: data matrix (2 dimensional np.array)\n",
    "    :param Y: response variables (1 dimensional np.array)\n",
    "    :param beta: value of beta (1 dimensional np.array)\n",
    "    :return: numberic value of the cost function\n",
    "    \"\"\"\n",
    "    \n",
    "    \n",
    "cost_func(xtrain,ytrain,np.array([1,2,3,4]))"
   ]
  },
  {
   "cell_type": "code",
   "execution_count": 203,
   "metadata": {},
   "outputs": [
    {
     "name": "stdout",
     "output_type": "stream",
     "text": [
      "The intercept is -0.7941255302495114\n",
      "The  coefficents are [-0.06866511  1.15129714  0.17586293]\n"
     ]
    }
   ],
   "source": [
    "def gradient_descent(X, Y, epsilon=1e-6, step_size=1e-4, max_steps=580):\n",
    "    n=X.shape[0]\n",
    "    m=X.shape[1]\n",
    "    beta=np.zeros(m)\n",
    "    for i in range(max_steps):\n",
    "        beta = beta - step_size*gradient(beta, X[X.columns], Y)\n",
    "        \n",
    "\n",
    "    return beta\n",
    "    \n",
    "    \n",
    "    \"\"\"\n",
    "    :param X: data matrix (2 dimensional np.array)\n",
    "    :param Y: response variables (1 dimensional np.array)\n",
    "    :param epsilon: threshold for a change in cost function value\n",
    "    :param max_steps: maximum number of iterations before algorithm will\n",
    "        terminate.\n",
    "    :return: value of beta (1 dimensional np.array)\n",
    "    \n",
    "    \"\"\"\n",
    "\n",
    "xtrain[\"for_intercept\"]=1\n",
    "beta=gradient_descent(xtrain, ytrain, epsilon=1e-6, step_size=1e-4) \n",
    "print(\"The intercept is %s\" % beta[0])\n",
    "print(\"The  coefficents are %s\" % beta[1:])"
   ]
  },
  {
   "cell_type": "markdown",
   "metadata": {},
   "source": [
    "## Run logistic regression using the features of your choice and using \"Outcome\" as a target variable"
   ]
  },
  {
   "cell_type": "code",
   "execution_count": 204,
   "metadata": {},
   "outputs": [
    {
     "name": "stdout",
     "output_type": "stream",
     "text": [
      "[-0.79412553 -0.06866511  1.15129714  0.17586293]\n",
      "[1 1 1 0 0 0 1 1 0 0 0 0 0 0 0 0 0 0 1 0 0 0 0 1 1 0 1 0 0 1 0 0 0 1 0 0 0\n",
      " 0 1 1 1 1 0 0 0 0 0 0 0 0 0 1 1 1 0 0 0 1 0 1 0 0 0 0 0 0 0 1 1 0 0 0 0 0\n",
      " 1 0 0 0 0 1 0 0 0 0 0 0 0 0 1 0 0 0 0 0 0 1 0 0 0 0 0 0 0 0 0 0 1 0 0 0 0\n",
      " 1 1 0 0 0 0 0 0 0 1 0 0 0 0 0 1 1 1 0 0 0 0 0 0 0 0 0 0 1 0 0 0 1 1 1 0 1\n",
      " 0 0 1 0 0 0 1 0 0 0 0 0 1 0 0 0 0 0 0 0 0 0 0 0 0 0 0 0 1 0 1 0 1 0 0 0 0\n",
      " 0 1 1 1 0 0 1]\n"
     ]
    }
   ],
   "source": [
    "\n",
    "print(beta)\n",
    "xtest[\"for_intercept\"]=1\n",
    "xtest=xtest[[\"for_intercept\"]+list(xtest.columns[:-1])]\n",
    "\n",
    "print(np.where(logistic_func(beta,xtest)>0.5,1,0))"
   ]
  },
  {
   "cell_type": "markdown",
   "metadata": {},
   "source": [
    "## Use the logistic regression available in Sklearn on the same data."
   ]
  },
  {
   "cell_type": "code",
   "execution_count": 208,
   "metadata": {},
   "outputs": [
    {
     "name": "stdout",
     "output_type": "stream",
     "text": [
      "[-0.79303444] [[-0.07290603  1.15376907  0.17687164]]\n",
      "[[108  11]\n",
      " [ 36  37]]\n",
      "Accuracy is 0.75521\n",
      "Precision is 0.77083\n",
      "Recall is 0.50685\n",
      "Accuracy: 0.7552083333333334\n",
      "Precision: 0.7708333333333334\n",
      "Recall: 0.5068493150684932\n"
     ]
    }
   ],
   "source": [
    "from sklearn.model_selection import train_test_split as tts\n",
    "xtrain,xtest,ytrain,ytest= tts(df1[df1.columns.difference([\"Outcome\"])],df1['Outcome'],test_size=0.25,random_state=40)\n",
    "\n",
    "\n",
    "from sklearn.linear_model import LogisticRegression\n",
    "logreg = LogisticRegression(solver='liblinear',fit_intercept=True)\n",
    "logreg.fit(xtrain,ytrain)\n",
    "pred = logreg.predict(xtest)\n",
    "print(logreg.intercept_,logreg.coef_)\n",
    "from sklearn.metrics import confusion_matrix as cm\n",
    "from sklearn import metrics\n",
    "cm = cm(ytest,pred)\n",
    "print(cm)\n",
    "print(\"Accuracy is %s\" % round((cm[1][1]+cm[0][0])/(cm[1][1]+cm[0][0]+cm[1][0]+cm[0][1]),5))\n",
    "print(\"Precision is %s\" % round(cm[1][1]/(cm[1][1]+cm[0][1]),5))\n",
    "print(\"Recall is %s\" % round(cm[1][1]/(cm[1][1]+cm[1][0]),5))\n",
    "#print(\"Accuracy:\",metrics.accuracy_score(ytest, pred))\n",
    "#print(\"Precision:\",metrics.precision_score(ytest, pred))\n",
    "#print(\"Recall:\",metrics.recall_score(ytest, pred))"
   ]
  },
  {
   "cell_type": "markdown",
   "metadata": {},
   "source": [
    "## Extra: try to plot the results of your algorithm i.e. a scatter plot of points classified into 2 classes in different colors."
   ]
  },
  {
   "cell_type": "code",
   "execution_count": 183,
   "metadata": {},
   "outputs": [
    {
     "data": {
      "image/png": "[encoded data removed]",
      "text/plain": [
       "<Figure size 864x864 with 2 Axes>"
      ]
     },
     "metadata": {
      "needs_background": "light"
     },
     "output_type": "display_data"
    },
    {
     "data": {
      "text/plain": [
       "array([ 0,  1,  2,  3,  4,  5,  6,  7,  8,  9, 10, 11, 12, 13, 14, 15, 16,\n",
       "       17, 18, 19, 20, 21, 22, 23, 24, 25, 26, 27, 28, 29, 30, 31, 32, 33,\n",
       "       34, 35, 36, 37, 38, 39, 40, 41, 42, 43, 44, 45, 46, 47])"
      ]
     },
     "execution_count": 183,
     "metadata": {},
     "output_type": "execute_result"
    }
   ],
   "source": [
    "fig , axis = plt.subplots(2,1,figsize=(12,12))\n",
    "axis[0].scatter(np.arange(len(pred[pred==0])),pred[pred==0])\n",
    "axis[0].scatter(np.arange(len(pred[pred==1])),pred[pred==1],color=\"r\")\n",
    "\n",
    "\n",
    "axis[1].scatter(np.arange(len(ytest[ytest==0])),ytest[ytest==0])\n",
    "axis[1].scatter(np.arange(len(ytest[ytest==1])),ytest[ytest==1],color=\"r\")\n",
    "plt.show()\n",
    "np.arange(len(pred[pred==1]))"
   ]
  },
  {
   "cell_type": "code",
   "execution_count": null,
   "metadata": {},
   "outputs": [],
   "source": []
  }
 ],
 "metadata": {
  "kernelspec": {
   "display_name": "Python 3",
   "language": "python",
   "name": "python3"
  },
  "language_info": {
   "codemirror_mode": {
    "name": "ipython",
    "version": 3
   },
   "file_extension": ".py",
   "mimetype": "text/x-python",
   "name": "python",
   "nbconvert_exporter": "python",
   "pygments_lexer": "ipython3",
   "version": "3.7.4"
  }
 },
 "nbformat": 4,
 "nbformat_minor": 4
}
